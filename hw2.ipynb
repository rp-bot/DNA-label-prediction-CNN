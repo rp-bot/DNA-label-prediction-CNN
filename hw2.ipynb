{
 "cells": [
  {
   "cell_type": "markdown",
   "source": [
    "# 1D CNN Homework"
   ],
   "metadata": {
    "id": "I7Uudys5x0It"
   },
   "id": "I7Uudys5x0It"
  },
  {
   "cell_type": "code",
   "execution_count": 1,
   "id": "initial_id",
   "metadata": {
    "collapsed": true,
    "is_executing": true,
    "id": "initial_id"
   },
   "outputs": [],
   "source": [
    "import pandas as pd\n",
    "import torch\n",
    "import torch.nn as nn\n",
    "import torch.nn.functional as F\n",
    "from torch.utils.data import DataLoader, Dataset\n",
    "from torch.nn.utils.rnn import pad_sequence\n",
    "import numpy as np"
   ]
  },
  {
   "cell_type": "markdown",
   "source": [
    "## Data Preprocessing"
   ],
   "metadata": {
    "id": "4r0DLXTEx46s"
   },
   "id": "4r0DLXTEx46s"
  },
  {
   "cell_type": "code",
   "outputs": [],
   "source": [
    "train_data ='train_features.csv'\n",
    "test_data ='test_features.csv'\n",
    "labels = 'train_labels.csv'"
   ],
   "metadata": {
    "is_executing": true,
    "id": "c7f3af01a07810c9"
   },
   "id": "c7f3af01a07810c9",
   "execution_count": 2
  },
  {
   "cell_type": "code",
   "outputs": [],
   "source": [
    "def load_and_preprocess_data(filename):\n",
    "    df = pd.read_csv(filename)\n",
    "    df['data'] = df['data'].str.replace('[^ACGT]', 'N')\n",
    "    char_to_int = {'A': 1, 'C': 2, 'G': 3, 'T': 4, 'N': 0}\n",
    "\n",
    "    data_array = []\n",
    "\n",
    "    for data_str in df['data']:\n",
    "        sequence = []\n",
    "        for char in data_str:\n",
    "            try:\n",
    "                sequence.append(char_to_int[char])\n",
    "            except KeyError: # There are some unexpected characters in the data\n",
    "                continue\n",
    "\n",
    "        data_array.append(torch.tensor(sequence))\n",
    "    padded_sequences = pad_sequence(data_array, batch_first=True)\n",
    "\n",
    "    return padded_sequences"
   ],
   "metadata": {
    "ExecuteTime": {
     "end_time": "2024-03-07T02:52:47.085091Z",
     "start_time": "2024-03-07T02:52:47.079845Z"
    },
    "id": "36adb6ae5917b7d5"
   },
   "id": "36adb6ae5917b7d5",
   "execution_count": 3
  },
  {
   "cell_type": "code",
   "outputs": [
    {
     "output_type": "stream",
     "name": "stderr",
     "text": [
      "<ipython-input-3-98bac31e7417>:3: FutureWarning: The default value of regex will change from True to False in a future version.\n",
      "  df['data'] = df['data'].str.replace('[^ACGT]', 'N')\n",
      "<ipython-input-3-98bac31e7417>:3: FutureWarning: The default value of regex will change from True to False in a future version.\n",
      "  df['data'] = df['data'].str.replace('[^ACGT]', 'N')\n"
     ]
    }
   ],
   "source": [
    "train_tensor = load_and_preprocess_data(train_data)\n",
    "test_tensor = load_and_preprocess_data(test_data)"
   ],
   "metadata": {
    "ExecuteTime": {
     "end_time": "2024-03-07T02:53:29.280563Z",
     "start_time": "2024-03-07T02:53:26.733975Z"
    },
    "colab": {
     "base_uri": "https://localhost:8080/"
    },
    "id": "3c98a6b9cc86dbb1",
    "outputId": "7d05bb73-a09d-42fe-f407-3a4352a76284"
   },
   "id": "3c98a6b9cc86dbb1",
   "execution_count": 4
  },
  {
   "cell_type": "code",
   "outputs": [
    {
     "output_type": "execute_result",
     "data": {
      "text/plain": [
       "torch.Size([16969, 1058])"
      ]
     },
     "metadata": {},
     "execution_count": 5
    }
   ],
   "source": [
    "train_tensor.shape"
   ],
   "metadata": {
    "ExecuteTime": {
     "end_time": "2024-03-07T03:01:37.656645Z",
     "start_time": "2024-03-07T03:01:37.652663Z"
    },
    "id": "cedd020253c11f88",
    "outputId": "ca0e3fb7-8ac7-45ba-84e4-a1500f53dc8e",
    "colab": {
     "base_uri": "https://localhost:8080/"
    }
   },
   "id": "cedd020253c11f88",
   "execution_count": 5
  },
  {
   "cell_type": "code",
   "outputs": [],
   "source": [
    "test_tensor = F.pad(test_tensor, (0, 196), 'constant', 0)"
   ],
   "metadata": {
    "ExecuteTime": {
     "end_time": "2024-03-07T03:01:46.981409Z",
     "start_time": "2024-03-07T03:01:46.969223Z"
    },
    "id": "5a438e8d017a68f1"
   },
   "id": "5a438e8d017a68f1",
   "execution_count": 6
  },
  {
   "cell_type": "code",
   "outputs": [
    {
     "output_type": "execute_result",
     "data": {
      "text/plain": [
       "torch.Size([4243, 1058])"
      ]
     },
     "metadata": {},
     "execution_count": 7
    }
   ],
   "source": [
    "test_tensor.shape"
   ],
   "metadata": {
    "ExecuteTime": {
     "end_time": "2024-03-07T03:01:52.830576Z",
     "start_time": "2024-03-07T03:01:52.826428Z"
    },
    "id": "9973594bd961af9a",
    "outputId": "cd3724c7-caa3-45e1-f025-c7140b4ac4f6",
    "colab": {
     "base_uri": "https://localhost:8080/"
    }
   },
   "id": "9973594bd961af9a",
   "execution_count": 7
  },
  {
   "cell_type": "code",
   "outputs": [],
   "source": [
    "def one_hot_encode(sequence, num_classes=5):\n",
    "    # One-hot encode\n",
    "    return F.one_hot(sequence, num_classes=num_classes).float()"
   ],
   "metadata": {
    "ExecuteTime": {
     "end_time": "2024-03-07T03:04:13.609611Z",
     "start_time": "2024-03-07T03:04:13.606500Z"
    },
    "id": "c2d5a4bf18a76ec6"
   },
   "id": "c2d5a4bf18a76ec6",
   "execution_count": 8
  },
  {
   "cell_type": "code",
   "outputs": [],
   "source": [
    "train_one_hot_encoded = one_hot_encode(train_tensor)\n",
    "test_one_hot_encoded = one_hot_encode(test_tensor)"
   ],
   "metadata": {
    "ExecuteTime": {
     "end_time": "2024-03-07T03:05:20.541631Z",
     "start_time": "2024-03-07T03:05:20.237131Z"
    },
    "id": "7149019842515948"
   },
   "id": "7149019842515948",
   "execution_count": 9
  },
  {
   "cell_type": "code",
   "outputs": [
    {
     "output_type": "execute_result",
     "data": {
      "text/plain": [
       "torch.Size([16969, 5290])"
      ]
     },
     "metadata": {},
     "execution_count": 10
    }
   ],
   "source": [
    "torch.flatten(train_one_hot_encoded, start_dim=1).shape"
   ],
   "metadata": {
    "ExecuteTime": {
     "end_time": "2024-03-07T06:24:10.801045Z",
     "start_time": "2024-03-07T06:24:10.795806Z"
    },
    "id": "7b2a251669d5f17c",
    "outputId": "8f8a9d5c-25e2-4feb-c876-cdd0a56b4794",
    "colab": {
     "base_uri": "https://localhost:8080/"
    }
   },
   "id": "7b2a251669d5f17c",
   "execution_count": 10
  },
  {
   "cell_type": "code",
   "outputs": [
    {
     "output_type": "stream",
     "name": "stdout",
     "text": [
      "torch.Size([16969, 1058, 5])\n",
      "torch.Size([4243, 1058, 5])\n"
     ]
    }
   ],
   "source": [
    "print(train_one_hot_encoded.shape)\n",
    "print(test_one_hot_encoded.shape)"
   ],
   "metadata": {
    "ExecuteTime": {
     "end_time": "2024-03-07T03:05:32.688416Z",
     "start_time": "2024-03-07T03:05:32.684515Z"
    },
    "id": "716fdd85901c633",
    "outputId": "468fbee1-5240-49e0-9133-693183f34b2a",
    "colab": {
     "base_uri": "https://localhost:8080/"
    }
   },
   "id": "716fdd85901c633",
   "execution_count": 11
  },
  {
   "cell_type": "markdown",
   "source": [
    "## DataLoader"
   ],
   "metadata": {
    "collapsed": false,
    "id": "b72ac0cfbdd388f"
   },
   "id": "b72ac0cfbdd388f"
  },
  {
   "cell_type": "code",
   "outputs": [],
   "source": [
    "class SequenceDataset(Dataset):\n",
    "    def __init__(self, sequences, labels):\n",
    "        self.sequences = sequences\n",
    "        self.labels = labels\n",
    "\n",
    "    def __len__(self):\n",
    "        return len(self.sequences)\n",
    "\n",
    "    def __getitem__(self, idx):\n",
    "        sequence = self.sequences[idx]\n",
    "        label = self.labels[idx]\n",
    "        return torch.tensor(sequence, dtype=torch.float), torch.tensor(label, dtype=torch.long)"
   ],
   "metadata": {
    "ExecuteTime": {
     "end_time": "2024-03-07T04:43:56.160186Z",
     "start_time": "2024-03-07T04:43:56.155482Z"
    },
    "id": "6b31db8f489deb8"
   },
   "id": "6b31db8f489deb8",
   "execution_count": 12
  },
  {
   "cell_type": "code",
   "outputs": [],
   "source": [
    "labels_df = pd.read_csv('train_labels.csv')"
   ],
   "metadata": {
    "ExecuteTime": {
     "end_time": "2024-03-07T03:51:02.692839Z",
     "start_time": "2024-03-07T03:51:02.684166Z"
    },
    "id": "11f762f0055fedde"
   },
   "id": "11f762f0055fedde",
   "execution_count": 13
  },
  {
   "cell_type": "code",
   "outputs": [],
   "source": [
    "num_classes = len(labels_df['labels'])"
   ],
   "metadata": {
    "ExecuteTime": {
     "end_time": "2024-03-07T05:23:30.401181Z",
     "start_time": "2024-03-07T05:23:30.397727Z"
    },
    "id": "ee05e5c67df169b8"
   },
   "id": "ee05e5c67df169b8",
   "execution_count": 14
  },
  {
   "cell_type": "code",
   "outputs": [
    {
     "output_type": "execute_result",
     "data": {
      "text/plain": [
       "16969"
      ]
     },
     "metadata": {},
     "execution_count": 15
    }
   ],
   "source": [
    "num_classes"
   ],
   "metadata": {
    "ExecuteTime": {
     "end_time": "2024-03-07T05:23:39.306373Z",
     "start_time": "2024-03-07T05:23:39.302017Z"
    },
    "id": "da3e505c2346e08b",
    "outputId": "98842de6-d85e-4abb-bebd-5bf127fd21e2",
    "colab": {
     "base_uri": "https://localhost:8080/"
    }
   },
   "id": "da3e505c2346e08b",
   "execution_count": 15
  },
  {
   "cell_type": "markdown",
   "source": [
    "## Model"
   ],
   "metadata": {
    "collapsed": false,
    "id": "4a77e544ce862606"
   },
   "id": "4a77e544ce862606"
  },
  {
   "cell_type": "code",
   "outputs": [],
   "source": [
    "class CNN1D(nn.Module):\n",
    "    def __init__(self, num_classes):\n",
    "        super(CNN1D, self).__init__()\n",
    "        self.conv1 = nn.Conv1d(in_channels=5, out_channels=16, kernel_size=3, stride=1, padding=1)\n",
    "        self.conv2 = nn.Conv1d(in_channels=16, out_channels=5, kernel_size=3, stride=1, padding=1)\n",
    "        self.pool = nn.MaxPool1d(2,2)\n",
    "        self.fc1 = nn.Linear(1320, 128)\n",
    "        self.fc2 = nn.Linear(128, num_classes)\n",
    "        self.relu = nn.ReLU()\n",
    "        self.softmax = nn.Softmax(dim=1)\n",
    "        self.dropout = nn.Dropout(0.25)\n",
    "\n",
    "    def forward(self, x):\n",
    "        x = self.pool(self.relu(self.conv1(x)))\n",
    "        x = self.pool(self.relu(self.conv2(x)))\n",
    "\n",
    "        x = torch.flatten(x, start_dim=1)\n",
    "        x = self.dropout(x)\n",
    "        # print(x.shape)\n",
    "        x = self.relu(self.fc1(x))\n",
    "        x = self.dropout(x)\n",
    "        x = self.fc2(x)\n",
    "        return x # a softmax for the output is not necessary since I am using nn.CrossEntropyLoss()"
   ],
   "metadata": {
    "ExecuteTime": {
     "end_time": "2024-03-07T06:34:01.112273Z",
     "start_time": "2024-03-07T06:34:01.106965Z"
    },
    "id": "36f2251e759c1d65"
   },
   "id": "36f2251e759c1d65",
   "execution_count": 16
  },
  {
   "cell_type": "code",
   "outputs": [],
   "source": [
    "model = CNN1D(num_classes=num_classes)\n",
    "train_set = SequenceDataset(train_one_hot_encoded, labels_df['labels'].values)\n",
    "trainloader = DataLoader(train_set, batch_size=32, shuffle=True)\n",
    "\n",
    "# Loss and optimizer\n",
    "criterion = nn.CrossEntropyLoss()\n",
    "optimizer = torch.optim.Adam(model.parameters(),lr=0.001)"
   ],
   "metadata": {
    "ExecuteTime": {
     "end_time": "2024-03-07T06:34:02.073805Z",
     "start_time": "2024-03-07T06:34:02.057793Z"
    },
    "id": "20229513769b2dcb"
   },
   "id": "20229513769b2dcb",
   "execution_count": 25
  },
  {
   "cell_type": "markdown",
   "source": [
    "## Training Loop"
   ],
   "metadata": {
    "collapsed": false,
    "id": "f9b369dd509bd78b"
   },
   "id": "f9b369dd509bd78b"
  },
  {
   "cell_type": "code",
   "outputs": [
    {
     "output_type": "stream",
     "name": "stderr",
     "text": [
      "<ipython-input-12-aee5f7087f49>:12: UserWarning: To copy construct from a tensor, it is recommended to use sourceTensor.clone().detach() or sourceTensor.clone().detach().requires_grad_(True), rather than torch.tensor(sourceTensor).\n",
      "  return torch.tensor(sequence, dtype=torch.float), torch.tensor(label, dtype=torch.long)\n"
     ]
    },
    {
     "output_type": "stream",
     "name": "stdout",
     "text": [
      "Epoch [1/100], Loss: 5.7931060791015625\n",
      "Epoch [2/100], Loss: 4.692102432250977\n",
      "Epoch [3/100], Loss: 1.4106229543685913\n",
      "Epoch [4/100], Loss: 2.107818126678467\n",
      "Epoch [5/100], Loss: 1.018846869468689\n",
      "Epoch [6/100], Loss: 0.3859853148460388\n",
      "Epoch [7/100], Loss: 0.15759047865867615\n",
      "Epoch [8/100], Loss: 0.9121363162994385\n",
      "Epoch [9/100], Loss: 0.7778366208076477\n",
      "Epoch [10/100], Loss: 0.03972068056464195\n"
     ]
    },
    {
     "output_type": "error",
     "ename": "KeyboardInterrupt",
     "evalue": "",
     "traceback": [
      "\u001B[0;31m---------------------------------------------------------------------------\u001B[0m",
      "\u001B[0;31mKeyboardInterrupt\u001B[0m                         Traceback (most recent call last)",
      "\u001B[0;32m<ipython-input-26-88be715c42e5>\u001B[0m in \u001B[0;36m<cell line: 2>\u001B[0;34m()\u001B[0m\n\u001B[1;32m     11\u001B[0m         \u001B[0moptimizer\u001B[0m\u001B[0;34m.\u001B[0m\u001B[0mzero_grad\u001B[0m\u001B[0;34m(\u001B[0m\u001B[0;34m)\u001B[0m\u001B[0;34m\u001B[0m\u001B[0;34m\u001B[0m\u001B[0m\n\u001B[1;32m     12\u001B[0m         \u001B[0mloss\u001B[0m\u001B[0;34m.\u001B[0m\u001B[0mbackward\u001B[0m\u001B[0;34m(\u001B[0m\u001B[0;34m)\u001B[0m\u001B[0;34m\u001B[0m\u001B[0;34m\u001B[0m\u001B[0m\n\u001B[0;32m---> 13\u001B[0;31m         \u001B[0moptimizer\u001B[0m\u001B[0;34m.\u001B[0m\u001B[0mstep\u001B[0m\u001B[0;34m(\u001B[0m\u001B[0;34m)\u001B[0m\u001B[0;34m\u001B[0m\u001B[0;34m\u001B[0m\u001B[0m\n\u001B[0m\u001B[1;32m     14\u001B[0m \u001B[0;34m\u001B[0m\u001B[0m\n\u001B[1;32m     15\u001B[0m         \u001B[0;32mif\u001B[0m \u001B[0mloss\u001B[0m\u001B[0;34m.\u001B[0m\u001B[0mitem\u001B[0m\u001B[0;34m(\u001B[0m\u001B[0;34m)\u001B[0m \u001B[0;34m<\u001B[0m \u001B[0;36m0.05\u001B[0m\u001B[0;34m:\u001B[0m\u001B[0;34m\u001B[0m\u001B[0;34m\u001B[0m\u001B[0m\n",
      "\u001B[0;32m/usr/local/lib/python3.10/dist-packages/torch/optim/optimizer.py\u001B[0m in \u001B[0;36mwrapper\u001B[0;34m(*args, **kwargs)\u001B[0m\n\u001B[1;32m    371\u001B[0m                             )\n\u001B[1;32m    372\u001B[0m \u001B[0;34m\u001B[0m\u001B[0m\n\u001B[0;32m--> 373\u001B[0;31m                 \u001B[0mout\u001B[0m \u001B[0;34m=\u001B[0m \u001B[0mfunc\u001B[0m\u001B[0;34m(\u001B[0m\u001B[0;34m*\u001B[0m\u001B[0margs\u001B[0m\u001B[0;34m,\u001B[0m \u001B[0;34m**\u001B[0m\u001B[0mkwargs\u001B[0m\u001B[0;34m)\u001B[0m\u001B[0;34m\u001B[0m\u001B[0;34m\u001B[0m\u001B[0m\n\u001B[0m\u001B[1;32m    374\u001B[0m                 \u001B[0mself\u001B[0m\u001B[0;34m.\u001B[0m\u001B[0m_optimizer_step_code\u001B[0m\u001B[0;34m(\u001B[0m\u001B[0;34m)\u001B[0m\u001B[0;34m\u001B[0m\u001B[0;34m\u001B[0m\u001B[0m\n\u001B[1;32m    375\u001B[0m \u001B[0;34m\u001B[0m\u001B[0m\n",
      "\u001B[0;32m/usr/local/lib/python3.10/dist-packages/torch/optim/optimizer.py\u001B[0m in \u001B[0;36m_use_grad\u001B[0;34m(self, *args, **kwargs)\u001B[0m\n\u001B[1;32m     74\u001B[0m             \u001B[0mtorch\u001B[0m\u001B[0;34m.\u001B[0m\u001B[0mset_grad_enabled\u001B[0m\u001B[0;34m(\u001B[0m\u001B[0mself\u001B[0m\u001B[0;34m.\u001B[0m\u001B[0mdefaults\u001B[0m\u001B[0;34m[\u001B[0m\u001B[0;34m'differentiable'\u001B[0m\u001B[0;34m]\u001B[0m\u001B[0;34m)\u001B[0m\u001B[0;34m\u001B[0m\u001B[0;34m\u001B[0m\u001B[0m\n\u001B[1;32m     75\u001B[0m             \u001B[0mtorch\u001B[0m\u001B[0;34m.\u001B[0m\u001B[0m_dynamo\u001B[0m\u001B[0;34m.\u001B[0m\u001B[0mgraph_break\u001B[0m\u001B[0;34m(\u001B[0m\u001B[0;34m)\u001B[0m\u001B[0;34m\u001B[0m\u001B[0;34m\u001B[0m\u001B[0m\n\u001B[0;32m---> 76\u001B[0;31m             \u001B[0mret\u001B[0m \u001B[0;34m=\u001B[0m \u001B[0mfunc\u001B[0m\u001B[0;34m(\u001B[0m\u001B[0mself\u001B[0m\u001B[0;34m,\u001B[0m \u001B[0;34m*\u001B[0m\u001B[0margs\u001B[0m\u001B[0;34m,\u001B[0m \u001B[0;34m**\u001B[0m\u001B[0mkwargs\u001B[0m\u001B[0;34m)\u001B[0m\u001B[0;34m\u001B[0m\u001B[0;34m\u001B[0m\u001B[0m\n\u001B[0m\u001B[1;32m     77\u001B[0m         \u001B[0;32mfinally\u001B[0m\u001B[0;34m:\u001B[0m\u001B[0;34m\u001B[0m\u001B[0;34m\u001B[0m\u001B[0m\n\u001B[1;32m     78\u001B[0m             \u001B[0mtorch\u001B[0m\u001B[0;34m.\u001B[0m\u001B[0m_dynamo\u001B[0m\u001B[0;34m.\u001B[0m\u001B[0mgraph_break\u001B[0m\u001B[0;34m(\u001B[0m\u001B[0;34m)\u001B[0m\u001B[0;34m\u001B[0m\u001B[0;34m\u001B[0m\u001B[0m\n",
      "\u001B[0;32m/usr/local/lib/python3.10/dist-packages/torch/optim/adam.py\u001B[0m in \u001B[0;36mstep\u001B[0;34m(self, closure)\u001B[0m\n\u001B[1;32m    161\u001B[0m                 state_steps)\n\u001B[1;32m    162\u001B[0m \u001B[0;34m\u001B[0m\u001B[0m\n\u001B[0;32m--> 163\u001B[0;31m             adam(\n\u001B[0m\u001B[1;32m    164\u001B[0m                 \u001B[0mparams_with_grad\u001B[0m\u001B[0;34m,\u001B[0m\u001B[0;34m\u001B[0m\u001B[0;34m\u001B[0m\u001B[0m\n\u001B[1;32m    165\u001B[0m                 \u001B[0mgrads\u001B[0m\u001B[0;34m,\u001B[0m\u001B[0;34m\u001B[0m\u001B[0;34m\u001B[0m\u001B[0m\n",
      "\u001B[0;32m/usr/local/lib/python3.10/dist-packages/torch/optim/adam.py\u001B[0m in \u001B[0;36madam\u001B[0;34m(params, grads, exp_avgs, exp_avg_sqs, max_exp_avg_sqs, state_steps, foreach, capturable, differentiable, fused, grad_scale, found_inf, amsgrad, beta1, beta2, lr, weight_decay, eps, maximize)\u001B[0m\n\u001B[1;32m    309\u001B[0m         \u001B[0mfunc\u001B[0m \u001B[0;34m=\u001B[0m \u001B[0m_single_tensor_adam\u001B[0m\u001B[0;34m\u001B[0m\u001B[0;34m\u001B[0m\u001B[0m\n\u001B[1;32m    310\u001B[0m \u001B[0;34m\u001B[0m\u001B[0m\n\u001B[0;32m--> 311\u001B[0;31m     func(params,\n\u001B[0m\u001B[1;32m    312\u001B[0m          \u001B[0mgrads\u001B[0m\u001B[0;34m,\u001B[0m\u001B[0;34m\u001B[0m\u001B[0;34m\u001B[0m\u001B[0m\n\u001B[1;32m    313\u001B[0m          \u001B[0mexp_avgs\u001B[0m\u001B[0;34m,\u001B[0m\u001B[0;34m\u001B[0m\u001B[0;34m\u001B[0m\u001B[0m\n",
      "\u001B[0;32m/usr/local/lib/python3.10/dist-packages/torch/optim/adam.py\u001B[0m in \u001B[0;36m_single_tensor_adam\u001B[0;34m(params, grads, exp_avgs, exp_avg_sqs, max_exp_avg_sqs, state_steps, grad_scale, found_inf, amsgrad, beta1, beta2, lr, weight_decay, eps, maximize, capturable, differentiable)\u001B[0m\n\u001B[1;32m    432\u001B[0m                 \u001B[0mdenom\u001B[0m \u001B[0;34m=\u001B[0m \u001B[0;34m(\u001B[0m\u001B[0mexp_avg_sq\u001B[0m\u001B[0;34m.\u001B[0m\u001B[0msqrt\u001B[0m\u001B[0;34m(\u001B[0m\u001B[0;34m)\u001B[0m \u001B[0;34m/\u001B[0m \u001B[0mbias_correction2_sqrt\u001B[0m\u001B[0;34m)\u001B[0m\u001B[0;34m.\u001B[0m\u001B[0madd_\u001B[0m\u001B[0;34m(\u001B[0m\u001B[0meps\u001B[0m\u001B[0;34m)\u001B[0m\u001B[0;34m\u001B[0m\u001B[0;34m\u001B[0m\u001B[0m\n\u001B[1;32m    433\u001B[0m \u001B[0;34m\u001B[0m\u001B[0m\n\u001B[0;32m--> 434\u001B[0;31m             \u001B[0mparam\u001B[0m\u001B[0;34m.\u001B[0m\u001B[0maddcdiv_\u001B[0m\u001B[0;34m(\u001B[0m\u001B[0mexp_avg\u001B[0m\u001B[0;34m,\u001B[0m \u001B[0mdenom\u001B[0m\u001B[0;34m,\u001B[0m \u001B[0mvalue\u001B[0m\u001B[0;34m=\u001B[0m\u001B[0;34m-\u001B[0m\u001B[0mstep_size\u001B[0m\u001B[0;34m)\u001B[0m\u001B[0;34m\u001B[0m\u001B[0;34m\u001B[0m\u001B[0m\n\u001B[0m\u001B[1;32m    435\u001B[0m \u001B[0;34m\u001B[0m\u001B[0m\n\u001B[1;32m    436\u001B[0m         \u001B[0;31m# Lastly, switch back to complex view\u001B[0m\u001B[0;34m\u001B[0m\u001B[0;34m\u001B[0m\u001B[0m\n",
      "\u001B[0;31mKeyboardInterrupt\u001B[0m: "
     ]
    }
   ],
   "source": [
    "num_epochs = 100\n",
    "for epoch in range(num_epochs):\n",
    "    model.train()\n",
    "    for sequences, labels in trainloader:\n",
    "        # Forward pass\n",
    "        outputs = model(sequences.permute(0, 2, 1))\n",
    "        # print(labels.shape)\n",
    "        loss = criterion(outputs, labels)\n",
    "\n",
    "        # Backward and optimize\n",
    "        optimizer.zero_grad()\n",
    "        loss.backward()\n",
    "        optimizer.step()\n",
    "\n",
    "        if loss.item() < 0.05:\n",
    "            break\n",
    "\n",
    "    print(f'Epoch [{epoch+1}/{num_epochs}], Loss: {loss.item()}')\n",
    "\n"
   ],
   "metadata": {
    "ExecuteTime": {
     "end_time": "2024-03-07T06:34:04.057170Z",
     "start_time": "2024-03-07T06:34:03.985166Z"
    },
    "colab": {
     "base_uri": "https://localhost:8080/",
     "height": 635
    },
    "id": "62d96b8ed23d9420",
    "outputId": "c3ecf8be-f591-4f24-8eca-d828f4dadf81"
   },
   "id": "62d96b8ed23d9420",
   "execution_count": 26
  },
  {
   "cell_type": "code",
   "source": [
    "torch.save(model.state_dict(), 'model_friday_mar_8.pth')"
   ],
   "metadata": {
    "id": "mSKEJciAw0dd"
   },
   "id": "mSKEJciAw0dd",
   "execution_count": 39,
   "outputs": []
  },
  {
   "cell_type": "markdown",
   "source": [
    "## Prediction"
   ],
   "metadata": {
    "id": "y__YtXKJxOFU"
   },
   "id": "y__YtXKJxOFU"
  },
  {
   "cell_type": "code",
   "source": [
    "prediction_model = CNN1D(num_classes=num_classes)\n",
    "prediction_model.load_state_dict(torch.load('model_friday_mar_8.pth'))\n",
    "\n",
    "prediction_model.eval()\n",
    "\n",
    "outputs = prediction_model(test_one_hot_encoded.permute(0, 2, 1))\n",
    "\n",
    "_, preds_tensor = torch.max(outputs, 1)\n",
    "\n",
    "preds = np.squeeze(preds_tensor.cpu().numpy())\n",
    "\n",
    "\n"
   ],
   "metadata": {
    "id": "PfrfnOFCJ-P1"
   },
   "id": "PfrfnOFCJ-P1",
   "execution_count": 40,
   "outputs": []
  },
  {
   "cell_type": "code",
   "outputs": [],
   "source": [
    "predictions = pd.DataFrame(preds)"
   ],
   "metadata": {
    "id": "55f4d8c7e683d093"
   },
   "id": "55f4d8c7e683d093",
   "execution_count": 41
  },
  {
   "cell_type": "code",
   "source": [
    "predictions['ids'] = predictions.index"
   ],
   "metadata": {
    "id": "pk_5PiBzkSow"
   },
   "id": "pk_5PiBzkSow",
   "execution_count": 42,
   "outputs": []
  },
  {
   "cell_type": "code",
   "source": [
    "cols = predictions.columns.tolist()\n",
    "cols[0], cols[1] = cols[1], cols[0]\n",
    "predictions = predictions[cols]"
   ],
   "metadata": {
    "id": "TL5gWjBou4-_"
   },
   "id": "TL5gWjBou4-_",
   "execution_count": 43,
   "outputs": []
  },
  {
   "cell_type": "code",
   "source": [
    "predictions.to_csv(\"predicted_test_labels.csv\")"
   ],
   "metadata": {
    "id": "wG4KXY6dvk2m"
   },
   "id": "wG4KXY6dvk2m",
   "execution_count": 45,
   "outputs": []
  },
  {
   "cell_type": "code",
   "source": [
    "predictions"
   ],
   "metadata": {
    "colab": {
     "base_uri": "https://localhost:8080/",
     "height": 424
    },
    "id": "Cb37q7L9wCOO",
    "outputId": "8a721db1-ad15-4468-fb9e-f47dae0303cd"
   },
   "id": "Cb37q7L9wCOO",
   "execution_count": 44,
   "outputs": [
    {
     "output_type": "execute_result",
     "data": {
      "text/plain": [
       "       ids     0\n",
       "0        0   715\n",
       "1        1  1147\n",
       "2        2   141\n",
       "3        3   255\n",
       "4        4   799\n",
       "...    ...   ...\n",
       "4238  4238  1162\n",
       "4239  4239   558\n",
       "4240  4240   777\n",
       "4241  4241   951\n",
       "4242  4242   329\n",
       "\n",
       "[4243 rows x 2 columns]"
      ],
      "text/html": [
       "\n",
       "  <div id=\"df-057a4d91-c461-4788-ae22-92b0bead3178\" class=\"colab-df-container\">\n",
       "    <div>\n",
       "<style scoped>\n",
       "    .dataframe tbody tr th:only-of-type {\n",
       "        vertical-align: middle;\n",
       "    }\n",
       "\n",
       "    .dataframe tbody tr th {\n",
       "        vertical-align: top;\n",
       "    }\n",
       "\n",
       "    .dataframe thead th {\n",
       "        text-align: right;\n",
       "    }\n",
       "</style>\n",
       "<table border=\"1\" class=\"dataframe\">\n",
       "  <thead>\n",
       "    <tr style=\"text-align: right;\">\n",
       "      <th></th>\n",
       "      <th>ids</th>\n",
       "      <th>0</th>\n",
       "    </tr>\n",
       "  </thead>\n",
       "  <tbody>\n",
       "    <tr>\n",
       "      <th>0</th>\n",
       "      <td>0</td>\n",
       "      <td>715</td>\n",
       "    </tr>\n",
       "    <tr>\n",
       "      <th>1</th>\n",
       "      <td>1</td>\n",
       "      <td>1147</td>\n",
       "    </tr>\n",
       "    <tr>\n",
       "      <th>2</th>\n",
       "      <td>2</td>\n",
       "      <td>141</td>\n",
       "    </tr>\n",
       "    <tr>\n",
       "      <th>3</th>\n",
       "      <td>3</td>\n",
       "      <td>255</td>\n",
       "    </tr>\n",
       "    <tr>\n",
       "      <th>4</th>\n",
       "      <td>4</td>\n",
       "      <td>799</td>\n",
       "    </tr>\n",
       "    <tr>\n",
       "      <th>...</th>\n",
       "      <td>...</td>\n",
       "      <td>...</td>\n",
       "    </tr>\n",
       "    <tr>\n",
       "      <th>4238</th>\n",
       "      <td>4238</td>\n",
       "      <td>1162</td>\n",
       "    </tr>\n",
       "    <tr>\n",
       "      <th>4239</th>\n",
       "      <td>4239</td>\n",
       "      <td>558</td>\n",
       "    </tr>\n",
       "    <tr>\n",
       "      <th>4240</th>\n",
       "      <td>4240</td>\n",
       "      <td>777</td>\n",
       "    </tr>\n",
       "    <tr>\n",
       "      <th>4241</th>\n",
       "      <td>4241</td>\n",
       "      <td>951</td>\n",
       "    </tr>\n",
       "    <tr>\n",
       "      <th>4242</th>\n",
       "      <td>4242</td>\n",
       "      <td>329</td>\n",
       "    </tr>\n",
       "  </tbody>\n",
       "</table>\n",
       "<p>4243 rows × 2 columns</p>\n",
       "</div>\n",
       "    <div class=\"colab-df-buttons\">\n",
       "\n",
       "  <div class=\"colab-df-container\">\n",
       "    <button class=\"colab-df-convert\" onclick=\"convertToInteractive('df-057a4d91-c461-4788-ae22-92b0bead3178')\"\n",
       "            title=\"Convert this dataframe to an interactive table.\"\n",
       "            style=\"display:none;\">\n",
       "\n",
       "  <svg xmlns=\"http://www.w3.org/2000/svg\" height=\"24px\" viewBox=\"0 -960 960 960\">\n",
       "    <path d=\"M120-120v-720h720v720H120Zm60-500h600v-160H180v160Zm220 220h160v-160H400v160Zm0 220h160v-160H400v160ZM180-400h160v-160H180v160Zm440 0h160v-160H620v160ZM180-180h160v-160H180v160Zm440 0h160v-160H620v160Z\"/>\n",
       "  </svg>\n",
       "    </button>\n",
       "\n",
       "  <style>\n",
       "    .colab-df-container {\n",
       "      display:flex;\n",
       "      gap: 12px;\n",
       "    }\n",
       "\n",
       "    .colab-df-convert {\n",
       "      background-color: #E8F0FE;\n",
       "      border: none;\n",
       "      border-radius: 50%;\n",
       "      cursor: pointer;\n",
       "      display: none;\n",
       "      fill: #1967D2;\n",
       "      height: 32px;\n",
       "      padding: 0 0 0 0;\n",
       "      width: 32px;\n",
       "    }\n",
       "\n",
       "    .colab-df-convert:hover {\n",
       "      background-color: #E2EBFA;\n",
       "      box-shadow: 0px 1px 2px rgba(60, 64, 67, 0.3), 0px 1px 3px 1px rgba(60, 64, 67, 0.15);\n",
       "      fill: #174EA6;\n",
       "    }\n",
       "\n",
       "    .colab-df-buttons div {\n",
       "      margin-bottom: 4px;\n",
       "    }\n",
       "\n",
       "    [theme=dark] .colab-df-convert {\n",
       "      background-color: #3B4455;\n",
       "      fill: #D2E3FC;\n",
       "    }\n",
       "\n",
       "    [theme=dark] .colab-df-convert:hover {\n",
       "      background-color: #434B5C;\n",
       "      box-shadow: 0px 1px 3px 1px rgba(0, 0, 0, 0.15);\n",
       "      filter: drop-shadow(0px 1px 2px rgba(0, 0, 0, 0.3));\n",
       "      fill: #FFFFFF;\n",
       "    }\n",
       "  </style>\n",
       "\n",
       "    <script>\n",
       "      const buttonEl =\n",
       "        document.querySelector('#df-057a4d91-c461-4788-ae22-92b0bead3178 button.colab-df-convert');\n",
       "      buttonEl.style.display =\n",
       "        google.colab.kernel.accessAllowed ? 'block' : 'none';\n",
       "\n",
       "      async function convertToInteractive(key) {\n",
       "        const element = document.querySelector('#df-057a4d91-c461-4788-ae22-92b0bead3178');\n",
       "        const dataTable =\n",
       "          await google.colab.kernel.invokeFunction('convertToInteractive',\n",
       "                                                    [key], {});\n",
       "        if (!dataTable) return;\n",
       "\n",
       "        const docLinkHtml = 'Like what you see? Visit the ' +\n",
       "          '<a target=\"_blank\" href=https://colab.research.google.com/notebooks/data_table.ipynb>data table notebook</a>'\n",
       "          + ' to learn more about interactive tables.';\n",
       "        element.innerHTML = '';\n",
       "        dataTable['output_type'] = 'display_data';\n",
       "        await google.colab.output.renderOutput(dataTable, element);\n",
       "        const docLink = document.createElement('div');\n",
       "        docLink.innerHTML = docLinkHtml;\n",
       "        element.appendChild(docLink);\n",
       "      }\n",
       "    </script>\n",
       "  </div>\n",
       "\n",
       "\n",
       "<div id=\"df-0243958f-4dbe-46d7-b646-3359e702e5d7\">\n",
       "  <button class=\"colab-df-quickchart\" onclick=\"quickchart('df-0243958f-4dbe-46d7-b646-3359e702e5d7')\"\n",
       "            title=\"Suggest charts\"\n",
       "            style=\"display:none;\">\n",
       "\n",
       "<svg xmlns=\"http://www.w3.org/2000/svg\" height=\"24px\"viewBox=\"0 0 24 24\"\n",
       "     width=\"24px\">\n",
       "    <g>\n",
       "        <path d=\"M19 3H5c-1.1 0-2 .9-2 2v14c0 1.1.9 2 2 2h14c1.1 0 2-.9 2-2V5c0-1.1-.9-2-2-2zM9 17H7v-7h2v7zm4 0h-2V7h2v10zm4 0h-2v-4h2v4z\"/>\n",
       "    </g>\n",
       "</svg>\n",
       "  </button>\n",
       "\n",
       "<style>\n",
       "  .colab-df-quickchart {\n",
       "      --bg-color: #E8F0FE;\n",
       "      --fill-color: #1967D2;\n",
       "      --hover-bg-color: #E2EBFA;\n",
       "      --hover-fill-color: #174EA6;\n",
       "      --disabled-fill-color: #AAA;\n",
       "      --disabled-bg-color: #DDD;\n",
       "  }\n",
       "\n",
       "  [theme=dark] .colab-df-quickchart {\n",
       "      --bg-color: #3B4455;\n",
       "      --fill-color: #D2E3FC;\n",
       "      --hover-bg-color: #434B5C;\n",
       "      --hover-fill-color: #FFFFFF;\n",
       "      --disabled-bg-color: #3B4455;\n",
       "      --disabled-fill-color: #666;\n",
       "  }\n",
       "\n",
       "  .colab-df-quickchart {\n",
       "    background-color: var(--bg-color);\n",
       "    border: none;\n",
       "    border-radius: 50%;\n",
       "    cursor: pointer;\n",
       "    display: none;\n",
       "    fill: var(--fill-color);\n",
       "    height: 32px;\n",
       "    padding: 0;\n",
       "    width: 32px;\n",
       "  }\n",
       "\n",
       "  .colab-df-quickchart:hover {\n",
       "    background-color: var(--hover-bg-color);\n",
       "    box-shadow: 0 1px 2px rgba(60, 64, 67, 0.3), 0 1px 3px 1px rgba(60, 64, 67, 0.15);\n",
       "    fill: var(--button-hover-fill-color);\n",
       "  }\n",
       "\n",
       "  .colab-df-quickchart-complete:disabled,\n",
       "  .colab-df-quickchart-complete:disabled:hover {\n",
       "    background-color: var(--disabled-bg-color);\n",
       "    fill: var(--disabled-fill-color);\n",
       "    box-shadow: none;\n",
       "  }\n",
       "\n",
       "  .colab-df-spinner {\n",
       "    border: 2px solid var(--fill-color);\n",
       "    border-color: transparent;\n",
       "    border-bottom-color: var(--fill-color);\n",
       "    animation:\n",
       "      spin 1s steps(1) infinite;\n",
       "  }\n",
       "\n",
       "  @keyframes spin {\n",
       "    0% {\n",
       "      border-color: transparent;\n",
       "      border-bottom-color: var(--fill-color);\n",
       "      border-left-color: var(--fill-color);\n",
       "    }\n",
       "    20% {\n",
       "      border-color: transparent;\n",
       "      border-left-color: var(--fill-color);\n",
       "      border-top-color: var(--fill-color);\n",
       "    }\n",
       "    30% {\n",
       "      border-color: transparent;\n",
       "      border-left-color: var(--fill-color);\n",
       "      border-top-color: var(--fill-color);\n",
       "      border-right-color: var(--fill-color);\n",
       "    }\n",
       "    40% {\n",
       "      border-color: transparent;\n",
       "      border-right-color: var(--fill-color);\n",
       "      border-top-color: var(--fill-color);\n",
       "    }\n",
       "    60% {\n",
       "      border-color: transparent;\n",
       "      border-right-color: var(--fill-color);\n",
       "    }\n",
       "    80% {\n",
       "      border-color: transparent;\n",
       "      border-right-color: var(--fill-color);\n",
       "      border-bottom-color: var(--fill-color);\n",
       "    }\n",
       "    90% {\n",
       "      border-color: transparent;\n",
       "      border-bottom-color: var(--fill-color);\n",
       "    }\n",
       "  }\n",
       "</style>\n",
       "\n",
       "  <script>\n",
       "    async function quickchart(key) {\n",
       "      const quickchartButtonEl =\n",
       "        document.querySelector('#' + key + ' button');\n",
       "      quickchartButtonEl.disabled = true;  // To prevent multiple clicks.\n",
       "      quickchartButtonEl.classList.add('colab-df-spinner');\n",
       "      try {\n",
       "        const charts = await google.colab.kernel.invokeFunction(\n",
       "            'suggestCharts', [key], {});\n",
       "      } catch (error) {\n",
       "        console.error('Error during call to suggestCharts:', error);\n",
       "      }\n",
       "      quickchartButtonEl.classList.remove('colab-df-spinner');\n",
       "      quickchartButtonEl.classList.add('colab-df-quickchart-complete');\n",
       "    }\n",
       "    (() => {\n",
       "      let quickchartButtonEl =\n",
       "        document.querySelector('#df-0243958f-4dbe-46d7-b646-3359e702e5d7 button');\n",
       "      quickchartButtonEl.style.display =\n",
       "        google.colab.kernel.accessAllowed ? 'block' : 'none';\n",
       "    })();\n",
       "  </script>\n",
       "</div>\n",
       "    </div>\n",
       "  </div>\n"
      ],
      "application/vnd.google.colaboratory.intrinsic+json": {
       "type": "dataframe",
       "variable_name": "predictions",
       "summary": "{\n  \"name\": \"predictions\",\n  \"rows\": 4243,\n  \"fields\": [\n    {\n      \"column\": \"ids\",\n      \"properties\": {\n        \"dtype\": \"number\",\n        \"std\": 1224,\n        \"min\": 0,\n        \"max\": 4242,\n        \"num_unique_values\": 4243,\n        \"samples\": [\n          1044,\n          3802,\n          2184\n        ],\n        \"semantic_type\": \"\",\n        \"description\": \"\"\n      }\n    },\n    {\n      \"column\": 0,\n      \"properties\": {\n        \"dtype\": \"number\",\n        \"std\": 353,\n        \"min\": 1,\n        \"max\": 1213,\n        \"num_unique_values\": 1155,\n        \"samples\": [\n          1194,\n          80,\n          606\n        ],\n        \"semantic_type\": \"\",\n        \"description\": \"\"\n      }\n    }\n  ]\n}"
      }
     },
     "metadata": {},
     "execution_count": 44
    }
   ]
  }
 ],
 "metadata": {
  "kernelspec": {
   "display_name": "Python 3",
   "language": "python",
   "name": "python3"
  },
  "language_info": {
   "codemirror_mode": {
    "name": "ipython",
    "version": 2
   },
   "file_extension": ".py",
   "mimetype": "text/x-python",
   "name": "python",
   "nbconvert_exporter": "python",
   "pygments_lexer": "ipython2",
   "version": "2.7.6"
  },
  "colab": {
   "provenance": []
  }
 },
 "nbformat": 4,
 "nbformat_minor": 5
}
