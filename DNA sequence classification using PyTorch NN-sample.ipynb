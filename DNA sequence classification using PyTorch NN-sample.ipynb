{
 "cells": [
  {
   "cell_type": "code",
   "execution_count": 1,
   "id": "c2075959",
   "metadata": {},
   "outputs": [],
   "source": [
    "# import packages\n",
    "%matplotlib inline\n",
    "%config InlineBackend.figure_format = 'retina'\n",
    "\n",
    "import numpy as np\n",
    "import pandas as pd\n",
    "import torch\n",
    "from numpy import argmax\n",
    "from numpy import array\n",
    "from collections import Counter\n",
    "from sklearn.preprocessing import LabelEncoder\n",
    "from sklearn.preprocessing import OneHotEncoder\n",
    "from sklearn.model_selection import train_test_split\n",
    "\n",
    "import matplotlib.pyplot as plt"
   ]
  },
  {
   "cell_type": "markdown",
   "id": "34100474",
   "metadata": {},
   "source": [
    "### Data Processing"
   ]
  },
  {
   "cell_type": "code",
   "execution_count": 3,
   "id": "a5c993b1",
   "metadata": {},
   "outputs": [],
   "source": [
    "def clean_seq(seq):\n",
    "    \n",
    "    seq = pd.Series(seq)\n",
    "    sequences = [seq.str.replace('[^ACGT]','N')]\n",
    "    sequences = np.squeeze(sequences)\n",
    "    \n",
    "    for i in range(len(sequences)):\n",
    "        sequences[i] = sequences[i].ljust(1058,'N')\n",
    "\n",
    "    sequences_array = np.array(sequences)\n",
    "\n",
    "    seq_list_padded = []\n",
    "    for i in range(len(sequences_array)):\n",
    "        list_seq = list(sequences_array[i])\n",
    "        del list_seq[650:]\n",
    "        seq_list_padded.append(list_seq)\n",
    "\n",
    "    replace_map = {'A': 1, 'C': 2, 'G': 3, 'T': 4, 'N': 5}\n",
    "    \n",
    "    integer_encoded = []\n",
    "    for i in range(len(seq_list_padded)):\n",
    "        C = (pd.Series(seq_list_padded[i])).map(replace_map) #convert the list to a pandas series temporarily before mapping\n",
    "        integer_encoded.append(list(C))\n",
    "    \n",
    "    data = np.array([1, 2, 3, 4, 5])\n",
    "    data = data.reshape(-1, 1) \n",
    "    \n",
    "    integer_encoded = np.array(integer_encoded).astype(int)\n",
    "    \n",
    "    onehot_encoder = OneHotEncoder(sparse=False)\n",
    "    onehot_encoder.fit(data)\n",
    "    \n",
    "    one_hot_encoded_seqs = []\n",
    "    \n",
    "    for i in range(len(integer_encoded)):\n",
    "        integer_encoded_tmp = integer_encoded[i].reshape(len(integer_encoded[i]), 1)\n",
    "        onehot_encoded = np.array(onehot_encoder.transform(integer_encoded_tmp)).flatten()\n",
    "        one_hot_encoded_seqs.append(onehot_encoded)\n",
    "        \n",
    "    one_hot_encoded_seqs_array = np.array(one_hot_encoded_seqs)\n",
    "    \n",
    "    return one_hot_encoded_seqs_array\n",
    "\n",
    "def load_n_encode_labels(labels):\n",
    "    softmax_layer = len(set(labels))\n",
    "    le = LabelEncoder()\n",
    "    le.fit(labels)\n",
    "    label_seq = le.transform(labels)\n",
    "    #label_seq = label_seq.reshape(len(label_seq), 1)\n",
    "    \n",
    "    return label_seq, le, softmax_layer\n",
    "\n",
    "def decode_labels(encoded_predict_labels, le):\n",
    "    test_predictions = le.inverse_transform(encoded_predict_labels)\n",
    "    \n",
    "    return test_predictions"
   ]
  },
  {
   "cell_type": "code",
   "execution_count": null,
   "id": "ce7712a7",
   "metadata": {},
   "outputs": [],
   "source": [
    "# read data\n",
    "\n",
    "train_val_features = pd.read_csv('train_features.csv')['data']\n",
    "print(\"train_val_features:\\n\", train_val_features)\n",
    "train_val_labels = pd.read_csv('train_labels.csv')['labels']\n",
    "print(\"train_val_labels:\\n\", train_val_labels)\n",
    "test_features = pd.read_csv('test_features.csv')['data']\n",
    "print(\"test_features:\\n\", test_features)\n",
    "\n",
    "\n",
    "one_hot_encoded_train_val_features = clean_seq(train_val_features)\n",
    "label_seq, le, softmax_layer = load_n_encode_labels(train_val_labels)\n",
    "\n",
    "# Randomly split sequences into train and validation\n",
    "\n",
    "X_train, X_validation, y_train, y_validation = train_test_split(one_hot_encoded_train_val_features, label_seq, test_size=0.2)\n",
    "print(\"X_train shape\", X_train.shape)\n",
    "print(\"y_train shape\", y_train.shape)\n",
    "print(\"X_validation shape\", X_validation.shape)\n",
    "print(\"y_validation shape\", y_validation.shape)"
   ]
  },
  {
   "cell_type": "code",
   "execution_count": 5,
   "id": "3c2dbf9a",
   "metadata": {},
   "outputs": [],
   "source": [
    "# prepare data loaders \n",
    "from torch.utils.data import DataLoader, TensorDataset\n",
    "from torch import Tensor\n",
    "\n",
    "train_dataset = TensorDataset( Tensor(X_train), Tensor(y_train).type(torch.LongTensor) )\n",
    "validation_dataset = TensorDataset( Tensor(X_validation), Tensor(y_validation).type(torch.LongTensor) )\n",
    "\n",
    "batch_size = 64\n",
    "train_loader = DataLoader(train_dataset, batch_size=batch_size)\n",
    "valid_loader = DataLoader(validation_dataset, batch_size=batch_size)"
   ]
  },
  {
   "cell_type": "code",
   "execution_count": 6,
   "id": "a044efee",
   "metadata": {},
   "outputs": [
    {
     "name": "stdout",
     "output_type": "stream",
     "text": [
      "input_dim 3250\n"
     ]
    }
   ],
   "source": [
    "# define PyTorch model\n",
    "from torch import nn\n",
    "import torch.nn.functional as F\n",
    "from torch import optim\n",
    "\n",
    "input_dim = X_train.shape[1]\n",
    "print(\"input_dim\", input_dim)\n",
    "\n",
    "class Classifier(nn.Module):\n",
    "    def __init__(self):\n",
    "        super().__init__()\n",
    "        self.fc1 = nn.Linear(input_dim, 1625)\n",
    "        self.fc2 = nn.Linear(1625, softmax_layer)\n",
    "\n",
    "        # Dropout module with 0.2 drop probability\n",
    "        self.dropout = nn.Dropout(p=0.2)\n",
    "\n",
    "    def forward(self, x):\n",
    "\n",
    "        # Now with dropout\n",
    "        x = self.dropout(F.relu(self.fc1(x)))\n",
    "\n",
    "        # output so no dropout here\n",
    "        x = F.log_softmax(self.fc2(x), dim=1)\n",
    "\n",
    "        return x\n",
    "\n",
    "model = Classifier()\n",
    "criterion = nn.NLLLoss()\n",
    "optimizer = optim.Adam(model.parameters(), lr=0.003)"
   ]
  },
  {
   "cell_type": "code",
   "execution_count": 7,
   "id": "918d6c61",
   "metadata": {},
   "outputs": [
    {
     "name": "stdout",
     "output_type": "stream",
     "text": [
      "Epoch: 1 \tTraining Loss: 5.826968 \tValidation Loss: 4.177459\n",
      "Validation loss decreased (inf --> 4.177459).  Saving model ...\n",
      "Epoch: 2 \tTraining Loss: 3.505794 \tValidation Loss: 2.143502\n",
      "Validation loss decreased (4.177459 --> 2.143502).  Saving model ...\n",
      "Epoch: 3 \tTraining Loss: 2.130819 \tValidation Loss: 1.157344\n",
      "Validation loss decreased (2.143502 --> 1.157344).  Saving model ...\n",
      "Epoch: 4 \tTraining Loss: 1.473721 \tValidation Loss: 0.820649\n",
      "Validation loss decreased (1.157344 --> 0.820649).  Saving model ...\n",
      "Epoch: 5 \tTraining Loss: 1.120071 \tValidation Loss: 0.694934\n",
      "Validation loss decreased (0.820649 --> 0.694934).  Saving model ...\n",
      "Epoch: 6 \tTraining Loss: 0.918619 \tValidation Loss: 0.592646\n",
      "Validation loss decreased (0.694934 --> 0.592646).  Saving model ...\n",
      "Epoch: 7 \tTraining Loss: 0.775498 \tValidation Loss: 0.602430\n",
      "Epoch: 8 \tTraining Loss: 0.683986 \tValidation Loss: 0.663963\n",
      "Epoch: 9 \tTraining Loss: 0.618306 \tValidation Loss: 0.668681\n",
      "Epoch: 10 \tTraining Loss: 0.535947 \tValidation Loss: 0.587363\n",
      "Validation loss decreased (0.592646 --> 0.587363).  Saving model ...\n",
      "Epoch: 11 \tTraining Loss: 0.495183 \tValidation Loss: 0.576283\n",
      "Validation loss decreased (0.587363 --> 0.576283).  Saving model ...\n",
      "Epoch: 12 \tTraining Loss: 0.468027 \tValidation Loss: 0.539192\n",
      "Validation loss decreased (0.576283 --> 0.539192).  Saving model ...\n",
      "Epoch: 13 \tTraining Loss: 0.444416 \tValidation Loss: 0.562048\n",
      "Epoch: 14 \tTraining Loss: 0.384312 \tValidation Loss: 0.597470\n",
      "Epoch: 15 \tTraining Loss: 0.390389 \tValidation Loss: 0.594774\n"
     ]
    }
   ],
   "source": [
    "# number of epochs to train the model\n",
    "n_epochs = 15\n",
    "train_losses, valid_losses = [], []\n",
    "\n",
    "valid_loss_min = np.Inf # track change in validation loss\n",
    "\n",
    "for epoch in range(1, n_epochs+1):\n",
    "\n",
    "    # keep track of training and validation loss\n",
    "    train_loss = 0.0\n",
    "    valid_loss = 0.0\n",
    "\n",
    "    ###################\n",
    "    # train the model #\n",
    "    ###################\n",
    "    for data, target in train_loader:\n",
    "        # clear the gradients of all optimized variables\n",
    "        optimizer.zero_grad()\n",
    "        # forward pass: compute predicted outputs by passing inputs to the model\n",
    "        output = model(data)\n",
    "        # calculate the batch loss\n",
    "        loss = criterion(output, target)\n",
    "        # backward pass: compute gradient of the loss with respect to model parameters\n",
    "        loss.backward()\n",
    "        # perform a single optimization step (parameter update)\n",
    "        optimizer.step()\n",
    "        # update training loss\n",
    "        train_loss += loss.item()*data.size(0)\n",
    "\n",
    "    ######################\n",
    "    # validate the model #\n",
    "    ######################\n",
    "\n",
    "    # Turn off gradients for validation, saves memory and computations\n",
    "    with torch.no_grad():\n",
    "        model.eval()\n",
    "        for data, target in valid_loader:\n",
    "            # forward pass: compute predicted outputs by passing inputs to the model\n",
    "            output = model(data)\n",
    "            # calculate the batch loss\n",
    "            loss = criterion(output, target)\n",
    "            # update average validation loss\n",
    "            valid_loss += loss.item()*data.size(0)\n",
    "\n",
    "    # set model back to train mode\n",
    "    model.train()\n",
    "\n",
    "    # calculate average losses\n",
    "    train_loss = train_loss/len(train_loader.sampler)\n",
    "    valid_loss = valid_loss/len(valid_loader.sampler)\n",
    "\n",
    "    train_losses.append(train_loss)\n",
    "    valid_losses.append(valid_loss)\n",
    "\n",
    "    # print training/validation statistics\n",
    "    print('Epoch: {} \\tTraining Loss: {:.6f} \\tValidation Loss: {:.6f}'.format(\n",
    "        epoch, train_loss, valid_loss))\n",
    "\n",
    "    # save model if validation loss has decreased\n",
    "    if valid_loss <= valid_loss_min:\n",
    "        print('Validation loss decreased ({:.6f} --> {:.6f}).  Saving model ...'.format(\n",
    "        valid_loss_min,\n",
    "        valid_loss))\n",
    "        torch.save(model.state_dict(), 'model_dna_seq.pth')\n",
    "        valid_loss_min = valid_loss"
   ]
  },
  {
   "cell_type": "markdown",
   "id": "4e6aca90",
   "metadata": {},
   "source": [
    "### Train and validation loss plot"
   ]
  },
  {
   "cell_type": "code",
   "execution_count": 8,
   "id": "2396cc9f",
   "metadata": {},
   "outputs": [
    {
     "data": {
      "text/plain": [
       "<matplotlib.legend.Legend at 0x7fb59251c280>"
      ]
     },
     "execution_count": 8,
     "metadata": {},
     "output_type": "execute_result"
    },
    {
     "data": {
      "image/png": "[encoded data removed]",
      "text/plain": [
       "<Figure size 640x480 with 1 Axes>"
      ]
     },
     "metadata": {
      "image/png": {
       "height": 413,
       "width": 534
      }
     },
     "output_type": "display_data"
    }
   ],
   "source": [
    "plt.plot(train_losses, label='Training loss')\n",
    "plt.plot(valid_losses, label='Validation loss')\n",
    "plt.legend(frameon=False)"
   ]
  },
  {
   "cell_type": "markdown",
   "id": "e1c36cc7",
   "metadata": {},
   "source": [
    "### Inference on Validation data"
   ]
  },
  {
   "cell_type": "code",
   "execution_count": 9,
   "id": "a535d3df",
   "metadata": {},
   "outputs": [
    {
     "name": "stdout",
     "output_type": "stream",
     "text": [
      "odict_keys(['fc1.weight', 'fc1.bias', 'fc2.weight', 'fc2.bias'])\n",
      "Accuracy: 82.06%\n"
     ]
    }
   ],
   "source": [
    "state_dict = torch.load('model_dna_seq.pth')\n",
    "print(state_dict.keys())\n",
    "model.load_state_dict(state_dict)\n",
    "\n",
    "#prediction\n",
    "accurate = 0\n",
    "total = 0\n",
    "for data,target in valid_loader:\n",
    "    output = model(data)\n",
    "    _,predicted = torch.max(output.data, 1)\n",
    "    # total labels\n",
    "    total+= target.size(0)\n",
    "\n",
    "    # Total correct predictions\n",
    "    accurate+= (predicted == target).sum()\n",
    "    accuracy_score = 100 * accurate/total\n",
    "\n",
    "print('Accuracy: {}%'.format(round(float(accuracy_score), 2)))"
   ]
  },
  {
   "cell_type": "markdown",
   "id": "0acce749",
   "metadata": {},
   "source": [
    "### Inference on Test data"
   ]
  },
  {
   "cell_type": "code",
   "execution_count": 10,
   "id": "14c1312d",
   "metadata": {},
   "outputs": [
    {
     "name": "stderr",
     "output_type": "stream",
     "text": [
      "/var/folders/ff/s5szj71n2q7226k0_1j2sf0c0000gq/T/ipykernel_75636/1050594908.py:4: FutureWarning: The default value of regex will change from True to False in a future version.\n",
      "  sequences = [seq.str.replace('[^ACGT]','N')]\n"
     ]
    },
    {
     "name": "stdout",
     "output_type": "stream",
     "text": [
      "Total test data shape (4243, 3250)\n",
      "decoded_predict_labels: [ 715 1150  782 ...  777  950  329]\n"
     ]
    }
   ],
   "source": [
    "one_hot_encoded_X_test = clean_seq(test_features)\n",
    "print(\"Total test data shape\", one_hot_encoded_X_test.shape)\n",
    "\n",
    "batch_size = 64\n",
    "test_loader = DataLoader(Tensor(one_hot_encoded_X_test), batch_size=batch_size)\n",
    "\n",
    "encoded_predict_labels = []\n",
    "# prediction\n",
    "for data in test_loader:\n",
    "    output = model(data)\n",
    "    _,predicted = torch.max(output.data, 1)\n",
    "    encoded_predict_labels.extend(predicted)\n",
    "\n",
    "decoded_predict_labels = decode_labels(encoded_predict_labels, le)\n",
    "print(\"decoded_predict_labels:\", decoded_predict_labels)"
   ]
  },
  {
   "cell_type": "code",
   "execution_count": null,
   "id": "c63b89e5",
   "metadata": {},
   "outputs": [],
   "source": []
  }
 ],
 "metadata": {
  "kernelspec": {
   "display_name": "Python 3 (ipykernel)",
   "language": "python",
   "name": "python3"
  },
  "language_info": {
   "codemirror_mode": {
    "name": "ipython",
    "version": 3
   },
   "file_extension": ".py",
   "mimetype": "text/x-python",
   "name": "python",
   "nbconvert_exporter": "python",
   "pygments_lexer": "ipython3",
   "version": "3.9.13"
  }
 },
 "nbformat": 4,
 "nbformat_minor": 5
}
